{
 "cells": [
  {
   "cell_type": "code",
   "execution_count": 1,
   "metadata": {},
   "outputs": [],
   "source": [
    "import numpy as np\n",
    "import pandas as pd\n",
    "\n",
    "import matplotlib.pyplot as plt\n",
    "import seaborn as sns\n",
    "%matplotlib inline"
   ]
  },
  {
   "cell_type": "markdown",
   "metadata": {},
   "source": [
    "---"
   ]
  },
  {
   "cell_type": "markdown",
   "metadata": {},
   "source": [
    "# The Problem\n",
    "Now how many squares? Can we predict how many squares for *this* pattern of any square length $\\ell$?\n",
    "\n",
    "![Hard Mode](https://thumbs.dreamstime.com/b/seamlesly-repeatable-diagonal-oblique-slanting-lines-graph-paper-pattern-slope-skew-grid-mesh-draft-drawing-plotting-texture-159489564.jpg)"
   ]
  },
  {
   "cell_type": "markdown",
   "metadata": {},
   "source": [
    "---"
   ]
  },
  {
   "cell_type": "markdown",
   "metadata": {},
   "source": [
    "## Set up data\n",
    "In this problem, I didn't have the actual mathematical proof for the growth of squares for this pattern. So I don't know what the growth does look like before starting out. What I've done to suppliment this is divide the information regarding the growth of the number of squares into the *solved* simple squares and the *unsolved* diagonal squares.\n",
    "\n",
    "Fortunately, we start to see a repeating pattern in the diagonal squares growth."
   ]
  },
  {
   "cell_type": "code",
   "execution_count": 2,
   "metadata": {},
   "outputs": [],
   "source": [
    "df = pd.DataFrame()"
   ]
  },
  {
   "cell_type": "code",
   "execution_count": 3,
   "metadata": {
    "code_folding": [
     3
    ]
   },
   "outputs": [],
   "source": [
    "l = np.array([1,2,3,4,5,6,7,8,9,10,11,12])\n",
    "\n",
    "# Equation 1.1\n",
    "def l_squared_sum(arg):\n",
    "    result = []\n",
    "    try:\n",
    "        for el in arg:\n",
    "            result.append(np.sum( np.arange(1,el+1)**2 ))\n",
    "        return result\n",
    "    except TypeError:\n",
    "         return np.sum( np.arange(1,arg+1)**2 )\n",
    "        \n",
    "l2_sum = l_squared_sum(l)"
   ]
  },
  {
   "cell_type": "code",
   "execution_count": 4,
   "metadata": {},
   "outputs": [],
   "source": [
    "n = [1,5,16,35,65,108,168,246,345,467,616,793]\n",
    "\n",
    "one_by_one = [0,0,2,4,8,12,18,24,32,40,50,60]\n",
    "two_by_two = [0,0,0,1,2,5,8,13,18,25,32,41]\n",
    "three_by_three = [0,0,0,0,0,0,2,4,8,12,18,24]\n",
    "four_by_four = [0,0,0,0,0,0,0,1,2,5,8,13]\n",
    "five_by_five = [0,0,0,0,0,0,0,0,0,0,2,4]\n",
    "six_by_six = [0,0,0,0,0,0,0,0,0,0,0,1]"
   ]
  },
  {
   "cell_type": "code",
   "execution_count": 5,
   "metadata": {},
   "outputs": [],
   "source": [
    "df['l'] = l\n",
    "df['l2_sum'] = l2_sum\n",
    "df['1x1'] = one_by_one\n",
    "df['2x2'] = two_by_two\n",
    "df['3x3'] = three_by_three\n",
    "df['4x4'] = four_by_four\n",
    "df['5x5'] = five_by_five\n",
    "df['6x6'] = six_by_six\n",
    "df['n'] = n"
   ]
  },
  {
   "cell_type": "code",
   "execution_count": 6,
   "metadata": {
    "scrolled": false
   },
   "outputs": [
    {
     "data": {
      "text/html": [
       "<div>\n",
       "<style scoped>\n",
       "    .dataframe tbody tr th:only-of-type {\n",
       "        vertical-align: middle;\n",
       "    }\n",
       "\n",
       "    .dataframe tbody tr th {\n",
       "        vertical-align: top;\n",
       "    }\n",
       "\n",
       "    .dataframe thead th {\n",
       "        text-align: right;\n",
       "    }\n",
       "</style>\n",
       "<table border=\"1\" class=\"dataframe\">\n",
       "  <thead>\n",
       "    <tr style=\"text-align: right;\">\n",
       "      <th></th>\n",
       "      <th>l</th>\n",
       "      <th>l2_sum</th>\n",
       "      <th>1x1</th>\n",
       "      <th>2x2</th>\n",
       "      <th>3x3</th>\n",
       "      <th>4x4</th>\n",
       "      <th>5x5</th>\n",
       "      <th>6x6</th>\n",
       "      <th>n</th>\n",
       "    </tr>\n",
       "  </thead>\n",
       "  <tbody>\n",
       "    <tr>\n",
       "      <th>0</th>\n",
       "      <td>1</td>\n",
       "      <td>1</td>\n",
       "      <td>0</td>\n",
       "      <td>0</td>\n",
       "      <td>0</td>\n",
       "      <td>0</td>\n",
       "      <td>0</td>\n",
       "      <td>0</td>\n",
       "      <td>1</td>\n",
       "    </tr>\n",
       "    <tr>\n",
       "      <th>1</th>\n",
       "      <td>2</td>\n",
       "      <td>5</td>\n",
       "      <td>0</td>\n",
       "      <td>0</td>\n",
       "      <td>0</td>\n",
       "      <td>0</td>\n",
       "      <td>0</td>\n",
       "      <td>0</td>\n",
       "      <td>5</td>\n",
       "    </tr>\n",
       "    <tr>\n",
       "      <th>2</th>\n",
       "      <td>3</td>\n",
       "      <td>14</td>\n",
       "      <td>2</td>\n",
       "      <td>0</td>\n",
       "      <td>0</td>\n",
       "      <td>0</td>\n",
       "      <td>0</td>\n",
       "      <td>0</td>\n",
       "      <td>16</td>\n",
       "    </tr>\n",
       "    <tr>\n",
       "      <th>3</th>\n",
       "      <td>4</td>\n",
       "      <td>30</td>\n",
       "      <td>4</td>\n",
       "      <td>1</td>\n",
       "      <td>0</td>\n",
       "      <td>0</td>\n",
       "      <td>0</td>\n",
       "      <td>0</td>\n",
       "      <td>35</td>\n",
       "    </tr>\n",
       "    <tr>\n",
       "      <th>4</th>\n",
       "      <td>5</td>\n",
       "      <td>55</td>\n",
       "      <td>8</td>\n",
       "      <td>2</td>\n",
       "      <td>0</td>\n",
       "      <td>0</td>\n",
       "      <td>0</td>\n",
       "      <td>0</td>\n",
       "      <td>65</td>\n",
       "    </tr>\n",
       "    <tr>\n",
       "      <th>5</th>\n",
       "      <td>6</td>\n",
       "      <td>91</td>\n",
       "      <td>12</td>\n",
       "      <td>5</td>\n",
       "      <td>0</td>\n",
       "      <td>0</td>\n",
       "      <td>0</td>\n",
       "      <td>0</td>\n",
       "      <td>108</td>\n",
       "    </tr>\n",
       "    <tr>\n",
       "      <th>6</th>\n",
       "      <td>7</td>\n",
       "      <td>140</td>\n",
       "      <td>18</td>\n",
       "      <td>8</td>\n",
       "      <td>2</td>\n",
       "      <td>0</td>\n",
       "      <td>0</td>\n",
       "      <td>0</td>\n",
       "      <td>168</td>\n",
       "    </tr>\n",
       "    <tr>\n",
       "      <th>7</th>\n",
       "      <td>8</td>\n",
       "      <td>204</td>\n",
       "      <td>24</td>\n",
       "      <td>13</td>\n",
       "      <td>4</td>\n",
       "      <td>1</td>\n",
       "      <td>0</td>\n",
       "      <td>0</td>\n",
       "      <td>246</td>\n",
       "    </tr>\n",
       "    <tr>\n",
       "      <th>8</th>\n",
       "      <td>9</td>\n",
       "      <td>285</td>\n",
       "      <td>32</td>\n",
       "      <td>18</td>\n",
       "      <td>8</td>\n",
       "      <td>2</td>\n",
       "      <td>0</td>\n",
       "      <td>0</td>\n",
       "      <td>345</td>\n",
       "    </tr>\n",
       "    <tr>\n",
       "      <th>9</th>\n",
       "      <td>10</td>\n",
       "      <td>385</td>\n",
       "      <td>40</td>\n",
       "      <td>25</td>\n",
       "      <td>12</td>\n",
       "      <td>5</td>\n",
       "      <td>0</td>\n",
       "      <td>0</td>\n",
       "      <td>467</td>\n",
       "    </tr>\n",
       "    <tr>\n",
       "      <th>10</th>\n",
       "      <td>11</td>\n",
       "      <td>506</td>\n",
       "      <td>50</td>\n",
       "      <td>32</td>\n",
       "      <td>18</td>\n",
       "      <td>8</td>\n",
       "      <td>2</td>\n",
       "      <td>0</td>\n",
       "      <td>616</td>\n",
       "    </tr>\n",
       "    <tr>\n",
       "      <th>11</th>\n",
       "      <td>12</td>\n",
       "      <td>650</td>\n",
       "      <td>60</td>\n",
       "      <td>41</td>\n",
       "      <td>24</td>\n",
       "      <td>13</td>\n",
       "      <td>4</td>\n",
       "      <td>1</td>\n",
       "      <td>793</td>\n",
       "    </tr>\n",
       "  </tbody>\n",
       "</table>\n",
       "</div>"
      ],
      "text/plain": [
       "     l  l2_sum  1x1  2x2  3x3  4x4  5x5  6x6    n\n",
       "0    1       1    0    0    0    0    0    0    1\n",
       "1    2       5    0    0    0    0    0    0    5\n",
       "2    3      14    2    0    0    0    0    0   16\n",
       "3    4      30    4    1    0    0    0    0   35\n",
       "4    5      55    8    2    0    0    0    0   65\n",
       "5    6      91   12    5    0    0    0    0  108\n",
       "6    7     140   18    8    2    0    0    0  168\n",
       "7    8     204   24   13    4    1    0    0  246\n",
       "8    9     285   32   18    8    2    0    0  345\n",
       "9   10     385   40   25   12    5    0    0  467\n",
       "10  11     506   50   32   18    8    2    0  616\n",
       "11  12     650   60   41   24   13    4    1  793"
      ]
     },
     "execution_count": 6,
     "metadata": {},
     "output_type": "execute_result"
    }
   ],
   "source": [
    "df"
   ]
  },
  {
   "cell_type": "markdown",
   "metadata": {},
   "source": [
    "Note that the `l2_sum` column is just the result of Equation 1.1 $( \\sum^{\\ell}_{s=1}s^2 )$ from the simple squares solution of the previous notebook."
   ]
  },
  {
   "cell_type": "markdown",
   "metadata": {},
   "source": [
    "---"
   ]
  },
  {
   "cell_type": "markdown",
   "metadata": {},
   "source": [
    "## Visualization\n",
    "Rather than try to discover the growth rate for the diagonal squares through brute force, let's first visualize the data to help inspire our intuition.\n",
    "\n",
    "First we will see how non-linear the relationship is between $\\ell$ and $n$, and how it compares to the simple \"**straight**\" squares solution (Equation 1.1)."
   ]
  },
  {
   "cell_type": "code",
   "execution_count": 7,
   "metadata": {
    "scrolled": false
   },
   "outputs": [
    {
     "data": {
      "image/png": "[encoded data removed]",
      "text/plain": [
       "<Figure size 720x432 with 1 Axes>"
      ]
     },
     "metadata": {
      "needs_background": "light"
     },
     "output_type": "display_data"
    }
   ],
   "source": [
    "fig = plt.figure(figsize=(10,6))\n",
    "ax = fig.add_axes([0,0,1,1])\n",
    "\n",
    "ax.set_xlabel('l')\n",
    "\n",
    "ax.plot(df['l'], df['n'], '^k', label='l vs n', markersize=8)\n",
    "ax.plot(df['l'], df['l2_sum'], label='Equation 1.1', lw=2)\n",
    "ax.plot(df['l'], df['l']**3, label='l^3', lw=2)\n",
    "\n",
    "ax.legend(loc=(0.1,0.8))\n",
    "plt.show()"
   ]
  },
  {
   "cell_type": "markdown",
   "metadata": {},
   "source": [
    "So we see that the values for $n$ fall just above the values for $n$ for the simple squares solution, plus some growing residual.\n",
    "\n",
    "This residual amount are the growing diagonal squares, so let's turn our attention to those for a moment. We will need to understand how those grow as the grid is expanded, so let's make a graph of the difference between grids of consecutive size $\\ell$. "
   ]
  },
  {
   "cell_type": "code",
   "execution_count": 8,
   "metadata": {
    "scrolled": false
   },
   "outputs": [
    {
     "data": {
      "image/png": "[encoded data removed]",
      "text/plain": [
       "<Figure size 720x432 with 1 Axes>"
      ]
     },
     "metadata": {
      "needs_background": "light"
     },
     "output_type": "display_data"
    }
   ],
   "source": [
    "fig = plt.figure(figsize=(10,6))\n",
    "ax = fig.add_axes([0,0,1,1])\n",
    "\n",
    "ax.set_xlabel('Δ l')\n",
    "ax.set_ylabel('Δ Square Growth')\n",
    "\n",
    "ax.plot(df['l'][1:], df['1x1'][1:].values - df['1x1'][0:-1].values, label='odds', lw=2)\n",
    "ax.plot(df['l'][1:], df['2x2'][1:].values - df['2x2'][0:-1].values, label='evens', lw=2)\n",
    "\n",
    "ax.legend(loc=(0.8,0.2))\n",
    "plt.show()"
   ]
  },
  {
   "cell_type": "markdown",
   "metadata": {},
   "source": [
    "**So we have just stumbled into the actual growth of these two diagonal squares**.  \n",
    "\n",
    "They increase at the same rate; they add two to their growth rate every two iterations. The only difference between these two lines is that the even sized squares (such as $2 \\times 2, 4 \\times 4$, etc.) start later and go up by 1 before growing at a rate of 2 after every other iteration.\n",
    "\n",
    "Since this is now determined, we may wish to write a function that describes these two behaviors. We will do that in the next section, but first let's do the visualization for the model fits of a couple degrees to see which model we might want to use.\n",
    "\n",
    "*Remember, our data has no noise, so this should be fine.*"
   ]
  },
  {
   "cell_type": "code",
   "execution_count": 9,
   "metadata": {},
   "outputs": [
    {
     "data": {
      "image/png": "[encoded data removed]",
      "text/plain": [
       "<Figure size 720x432 with 1 Axes>"
      ]
     },
     "metadata": {
      "needs_background": "light"
     },
     "output_type": "display_data"
    }
   ],
   "source": [
    "# Quick fit and visualization\n",
    "xp = np.linspace(1, 12, 100)\n",
    "\n",
    "z = np.polyfit(df['l'], df['n'], 1)\n",
    "z2 = np.polyfit(df['l'], df['n'], 2)\n",
    "z3 = np.polyfit(df['l'], df['n'], 3)\n",
    "\n",
    "p = np.poly1d(z)\n",
    "p2 = np.poly1d(z2)\n",
    "p3 = np.poly1d(z3)\n",
    "\n",
    "fig = plt.figure(figsize=(10,6))\n",
    "ax = fig.add_axes([0,0,1,1])\n",
    "\n",
    "ax.set_xlabel('l')\n",
    "\n",
    "ax.plot(df['l'], df['n'],'^k', label='l vs n', markersize=8)\n",
    "ax.plot(xp, p2(xp), label='Degree 2 Model', lw=3)\n",
    "ax.plot(xp, p3(xp), label='Degree 3 Model', lw=3)\n",
    "\n",
    "ax.legend(loc=(0.1,0.8))\n",
    "plt.show()"
   ]
  },
  {
   "cell_type": "markdown",
   "metadata": {},
   "source": [
    "So we will attempt to fit a single model using some linear combination of $\\ell$, $\\ell^2$, and $\\ell^3$, just as before. Except with different coefficients and intercept.\n",
    "\n",
    "\\begin{equation}\n",
    "    n \\approx \\beta_0 + \\beta_1 \\ell + \\beta_2 \\ell^2 + \\beta_3 \\ell^3\n",
    "    \\tag{2.1}\n",
    "\\end{equation}\n",
    "\n",
    "But before we do that, let's first graph what the diffference is in growth between each iterative step of $\\ell$."
   ]
  },
  {
   "cell_type": "markdown",
   "metadata": {},
   "source": [
    "---"
   ]
  },
  {
   "cell_type": "markdown",
   "metadata": {},
   "source": [
    "## Writing the diagonal growth function\n",
    "We'll need this to compare and evaluate our trained model."
   ]
  },
  {
   "cell_type": "code",
   "execution_count": 10,
   "metadata": {
    "code_folding": []
   },
   "outputs": [],
   "source": [
    "def diag_growth(l, dim=1):\n",
    "    ''' Enter a side length for the size of the outer grid.\n",
    "        Enter the dimension of the diagonal squares you are interested in. '''\n",
    "    \n",
    "    values = []\n",
    "    accel_growth = False\n",
    "    \n",
    "    if 2*dim > l:\n",
    "        while l > 0:\n",
    "            values.append(0)\n",
    "            l-=1\n",
    "        return np.array(values)\n",
    "    \n",
    "    if dim%2 == 0:\n",
    "        growth_rate = 1\n",
    "        dim = dim*2 - 2\n",
    "    else:\n",
    "        growth_rate = 2\n",
    "        dim = dim*2 - 1\n",
    "        \n",
    "    while dim >= 0:\n",
    "        values.append(0)\n",
    "        dim-=1\n",
    "    \n",
    "    try:\n",
    "        if values[l] == 0:\n",
    "            return np.array(values)\n",
    "    except IndexError:\n",
    "        while len(values) < l:\n",
    "            if accel_growth: \n",
    "                accel_growth = False\n",
    "                values.append(values[-1] + growth_rate)\n",
    "                growth_rate+=2\n",
    "            else:\n",
    "                values.append(values[-1] + growth_rate)\n",
    "                accel_growth = True\n",
    "    \n",
    "    return np.array(values)"
   ]
  },
  {
   "cell_type": "code",
   "execution_count": 11,
   "metadata": {},
   "outputs": [
    {
     "name": "stdout",
     "output_type": "stream",
     "text": [
      "Odd values from data:  [ 0  0  2  4  8 12 18 24 32 40 50 60]\n",
      "Odd values from func:  [ 0  0  2  4  8 12 18 24 32 40 50 60]\n",
      "======================================================================\n",
      "Even values from data:  [ 0  0  0  1  2  5  8 13 18 25 32 41]\n",
      "Even values from func:  [ 0  0  0  1  2  5  8 13 18 25 32 41]\n"
     ]
    }
   ],
   "source": [
    "# Values from our data\n",
    "print(\"Odd values from data: \", df['1x1'].values)\n",
    "\n",
    "# Results from our function\n",
    "print(\"Odd values from func: \",diag_growth(12, dim=1))\n",
    "\n",
    "print(70*'=')\n",
    "\n",
    "# Values from our data\n",
    "print(\"Even values from data: \", df['2x2'].values)\n",
    "\n",
    "# Results from our function\n",
    "print(\"Even values from func: \",diag_growth(12, dim=2))"
   ]
  },
  {
   "cell_type": "markdown",
   "metadata": {},
   "source": [
    "We can now use this function to generate some test data. But let's first finish up our model from Equation 2.1 and then come back to generating test data."
   ]
  },
  {
   "cell_type": "markdown",
   "metadata": {},
   "source": [
    "---"
   ]
  },
  {
   "cell_type": "markdown",
   "metadata": {},
   "source": [
    "## Find coefficients to fit the models"
   ]
  },
  {
   "cell_type": "code",
   "execution_count": 12,
   "metadata": {},
   "outputs": [],
   "source": [
    "from sklearn.linear_model import LinearRegression"
   ]
  },
  {
   "cell_type": "code",
   "execution_count": 13,
   "metadata": {},
   "outputs": [],
   "source": [
    "lm = LinearRegression()"
   ]
  },
  {
   "cell_type": "code",
   "execution_count": 14,
   "metadata": {},
   "outputs": [
    {
     "data": {
      "text/html": [
       "<div>\n",
       "<style scoped>\n",
       "    .dataframe tbody tr th:only-of-type {\n",
       "        vertical-align: middle;\n",
       "    }\n",
       "\n",
       "    .dataframe tbody tr th {\n",
       "        vertical-align: top;\n",
       "    }\n",
       "\n",
       "    .dataframe thead th {\n",
       "        text-align: right;\n",
       "    }\n",
       "</style>\n",
       "<table border=\"1\" class=\"dataframe\">\n",
       "  <thead>\n",
       "    <tr style=\"text-align: right;\">\n",
       "      <th></th>\n",
       "      <th>l</th>\n",
       "      <th>l2</th>\n",
       "      <th>l3</th>\n",
       "    </tr>\n",
       "  </thead>\n",
       "  <tbody>\n",
       "    <tr>\n",
       "      <th>0</th>\n",
       "      <td>1</td>\n",
       "      <td>1</td>\n",
       "      <td>1</td>\n",
       "    </tr>\n",
       "    <tr>\n",
       "      <th>1</th>\n",
       "      <td>2</td>\n",
       "      <td>4</td>\n",
       "      <td>8</td>\n",
       "    </tr>\n",
       "    <tr>\n",
       "      <th>2</th>\n",
       "      <td>3</td>\n",
       "      <td>9</td>\n",
       "      <td>27</td>\n",
       "    </tr>\n",
       "  </tbody>\n",
       "</table>\n",
       "</div>"
      ],
      "text/plain": [
       "   l  l2  l3\n",
       "0  1   1   1\n",
       "1  2   4   8\n",
       "2  3   9  27"
      ]
     },
     "execution_count": 14,
     "metadata": {},
     "output_type": "execute_result"
    }
   ],
   "source": [
    "X = pd.DataFrame()\n",
    "X['l'] = df['l']\n",
    "X['l2'] = df['l']**2\n",
    "X['l3'] = df['l']**3\n",
    "\n",
    "X.head(3)"
   ]
  },
  {
   "cell_type": "code",
   "execution_count": 15,
   "metadata": {},
   "outputs": [
    {
     "data": {
      "text/plain": [
       "LinearRegression()"
      ]
     },
     "execution_count": 15,
     "metadata": {},
     "output_type": "execute_result"
    }
   ],
   "source": [
    "lm.fit(X,df['n'])"
   ]
  },
  {
   "cell_type": "code",
   "execution_count": 16,
   "metadata": {},
   "outputs": [
    {
     "name": "stdout",
     "output_type": "stream",
     "text": [
      "Intercept:  -0.22222222222225696\n"
     ]
    }
   ],
   "source": [
    "print('Intercept: ', lm.intercept_)"
   ]
  },
  {
   "cell_type": "code",
   "execution_count": 17,
   "metadata": {
    "scrolled": true
   },
   "outputs": [
    {
     "data": {
      "text/html": [
       "<div>\n",
       "<style scoped>\n",
       "    .dataframe tbody tr th:only-of-type {\n",
       "        vertical-align: middle;\n",
       "    }\n",
       "\n",
       "    .dataframe tbody tr th {\n",
       "        vertical-align: top;\n",
       "    }\n",
       "\n",
       "    .dataframe thead th {\n",
       "        text-align: right;\n",
       "    }\n",
       "</style>\n",
       "<table border=\"1\" class=\"dataframe\">\n",
       "  <thead>\n",
       "    <tr style=\"text-align: right;\">\n",
       "      <th></th>\n",
       "      <th>Coeff (𝛽)</th>\n",
       "    </tr>\n",
       "  </thead>\n",
       "  <tbody>\n",
       "    <tr>\n",
       "      <th>l</th>\n",
       "      <td>0.149110</td>\n",
       "    </tr>\n",
       "    <tr>\n",
       "      <th>l2</th>\n",
       "      <td>0.487235</td>\n",
       "    </tr>\n",
       "    <tr>\n",
       "      <th>l3</th>\n",
       "      <td>0.417379</td>\n",
       "    </tr>\n",
       "  </tbody>\n",
       "</table>\n",
       "</div>"
      ],
      "text/plain": [
       "    Coeff (𝛽)\n",
       "l    0.149110\n",
       "l2   0.487235\n",
       "l3   0.417379"
      ]
     },
     "execution_count": 17,
     "metadata": {},
     "output_type": "execute_result"
    }
   ],
   "source": [
    "cdf = pd.DataFrame(lm.coef_,X.columns,columns=['Coeff (𝛽)'])\n",
    "cdf"
   ]
  },
  {
   "cell_type": "markdown",
   "metadata": {},
   "source": [
    "---"
   ]
  },
  {
   "cell_type": "markdown",
   "metadata": {},
   "source": [
    "## Generating test data\n",
    "Our model was trained on only 12 data points, $\\ell_{\\text{train}}: 1\\to12$. So let's take a few points just outside that range, as well as a few points far outside the range to see how the model performs for large $\\ell$"
   ]
  },
  {
   "cell_type": "code",
   "execution_count": 18,
   "metadata": {},
   "outputs": [
    {
     "data": {
      "text/html": [
       "<div>\n",
       "<style scoped>\n",
       "    .dataframe tbody tr th:only-of-type {\n",
       "        vertical-align: middle;\n",
       "    }\n",
       "\n",
       "    .dataframe tbody tr th {\n",
       "        vertical-align: top;\n",
       "    }\n",
       "\n",
       "    .dataframe thead th {\n",
       "        text-align: right;\n",
       "    }\n",
       "</style>\n",
       "<table border=\"1\" class=\"dataframe\">\n",
       "  <thead>\n",
       "    <tr style=\"text-align: right;\">\n",
       "      <th></th>\n",
       "      <th>straights</th>\n",
       "    </tr>\n",
       "  </thead>\n",
       "  <tbody>\n",
       "    <tr>\n",
       "      <th>15</th>\n",
       "      <td>1240</td>\n",
       "    </tr>\n",
       "    <tr>\n",
       "      <th>20</th>\n",
       "      <td>2870</td>\n",
       "    </tr>\n",
       "    <tr>\n",
       "      <th>25</th>\n",
       "      <td>5525</td>\n",
       "    </tr>\n",
       "    <tr>\n",
       "      <th>50</th>\n",
       "      <td>42925</td>\n",
       "    </tr>\n",
       "    <tr>\n",
       "      <th>80</th>\n",
       "      <td>173880</td>\n",
       "    </tr>\n",
       "    <tr>\n",
       "      <th>100</th>\n",
       "      <td>338350</td>\n",
       "    </tr>\n",
       "    <tr>\n",
       "      <th>1000</th>\n",
       "      <td>333833500</td>\n",
       "    </tr>\n",
       "  </tbody>\n",
       "</table>\n",
       "</div>"
      ],
      "text/plain": [
       "      straights\n",
       "15         1240\n",
       "20         2870\n",
       "25         5525\n",
       "50        42925\n",
       "80       173880\n",
       "100      338350\n",
       "1000  333833500"
      ]
     },
     "execution_count": 18,
     "metadata": {},
     "output_type": "execute_result"
    }
   ],
   "source": [
    "l_test = [15,20,25,50,80,100,1000]\n",
    "l2_test_sum = l_squared_sum(l_test)\n",
    "l2_test_sum = pd.DataFrame(l2_test_sum, index=l_test, columns=['straights'])\n",
    "l2_test_sum"
   ]
  },
  {
   "cell_type": "markdown",
   "metadata": {},
   "source": [
    "These are values for the number of squares without counting the diagonal squares.\n",
    "\n",
    "Let's go ahead and count the diagonals now."
   ]
  },
  {
   "cell_type": "code",
   "execution_count": 19,
   "metadata": {},
   "outputs": [],
   "source": [
    "results = {}\n",
    "\n",
    "for el in l_test:\n",
    "    results[el] = []\n",
    "    for i in np.arange(1,el):\n",
    "        results[el].append(np.sum(diag_growth(el,dim=i)[-1]))\n",
    "    \n",
    "    results[el] = np.sum(results[el])"
   ]
  },
  {
   "cell_type": "code",
   "execution_count": 20,
   "metadata": {},
   "outputs": [
    {
     "data": {
      "text/html": [
       "<div>\n",
       "<style scoped>\n",
       "    .dataframe tbody tr th:only-of-type {\n",
       "        vertical-align: middle;\n",
       "    }\n",
       "\n",
       "    .dataframe tbody tr th {\n",
       "        vertical-align: top;\n",
       "    }\n",
       "\n",
       "    .dataframe thead th {\n",
       "        text-align: right;\n",
       "    }\n",
       "</style>\n",
       "<table border=\"1\" class=\"dataframe\">\n",
       "  <thead>\n",
       "    <tr style=\"text-align: right;\">\n",
       "      <th></th>\n",
       "      <th>diagonals</th>\n",
       "    </tr>\n",
       "  </thead>\n",
       "  <tbody>\n",
       "    <tr>\n",
       "      <th>15</th>\n",
       "      <td>280</td>\n",
       "    </tr>\n",
       "    <tr>\n",
       "      <th>20</th>\n",
       "      <td>665</td>\n",
       "    </tr>\n",
       "    <tr>\n",
       "      <th>25</th>\n",
       "      <td>1300</td>\n",
       "    </tr>\n",
       "    <tr>\n",
       "      <th>50</th>\n",
       "      <td>10412</td>\n",
       "    </tr>\n",
       "    <tr>\n",
       "      <th>80</th>\n",
       "      <td>42660</td>\n",
       "    </tr>\n",
       "    <tr>\n",
       "      <th>100</th>\n",
       "      <td>83325</td>\n",
       "    </tr>\n",
       "    <tr>\n",
       "      <th>1000</th>\n",
       "      <td>83333250</td>\n",
       "    </tr>\n",
       "  </tbody>\n",
       "</table>\n",
       "</div>"
      ],
      "text/plain": [
       "      diagonals\n",
       "15          280\n",
       "20          665\n",
       "25         1300\n",
       "50        10412\n",
       "80        42660\n",
       "100       83325\n",
       "1000   83333250"
      ]
     },
     "execution_count": 20,
     "metadata": {},
     "output_type": "execute_result"
    }
   ],
   "source": [
    "results = pd.DataFrame.from_dict(results, orient='index', columns=['diagonals'])\n",
    "results"
   ]
  },
  {
   "cell_type": "markdown",
   "metadata": {},
   "source": [
    "Now we simply add the corresponding values."
   ]
  },
  {
   "cell_type": "code",
   "execution_count": 21,
   "metadata": {},
   "outputs": [
    {
     "data": {
      "text/html": [
       "<div>\n",
       "<style scoped>\n",
       "    .dataframe tbody tr th:only-of-type {\n",
       "        vertical-align: middle;\n",
       "    }\n",
       "\n",
       "    .dataframe tbody tr th {\n",
       "        vertical-align: top;\n",
       "    }\n",
       "\n",
       "    .dataframe thead th {\n",
       "        text-align: right;\n",
       "    }\n",
       "</style>\n",
       "<table border=\"1\" class=\"dataframe\">\n",
       "  <thead>\n",
       "    <tr style=\"text-align: right;\">\n",
       "      <th></th>\n",
       "      <th>diagonals</th>\n",
       "      <th>straights</th>\n",
       "      <th>n</th>\n",
       "    </tr>\n",
       "  </thead>\n",
       "  <tbody>\n",
       "    <tr>\n",
       "      <th>15</th>\n",
       "      <td>280</td>\n",
       "      <td>1240</td>\n",
       "      <td>1520</td>\n",
       "    </tr>\n",
       "    <tr>\n",
       "      <th>20</th>\n",
       "      <td>665</td>\n",
       "      <td>2870</td>\n",
       "      <td>3535</td>\n",
       "    </tr>\n",
       "    <tr>\n",
       "      <th>25</th>\n",
       "      <td>1300</td>\n",
       "      <td>5525</td>\n",
       "      <td>6825</td>\n",
       "    </tr>\n",
       "    <tr>\n",
       "      <th>50</th>\n",
       "      <td>10412</td>\n",
       "      <td>42925</td>\n",
       "      <td>53337</td>\n",
       "    </tr>\n",
       "    <tr>\n",
       "      <th>80</th>\n",
       "      <td>42660</td>\n",
       "      <td>173880</td>\n",
       "      <td>216540</td>\n",
       "    </tr>\n",
       "    <tr>\n",
       "      <th>100</th>\n",
       "      <td>83325</td>\n",
       "      <td>338350</td>\n",
       "      <td>421675</td>\n",
       "    </tr>\n",
       "    <tr>\n",
       "      <th>1000</th>\n",
       "      <td>83333250</td>\n",
       "      <td>333833500</td>\n",
       "      <td>417166750</td>\n",
       "    </tr>\n",
       "  </tbody>\n",
       "</table>\n",
       "</div>"
      ],
      "text/plain": [
       "      diagonals  straights          n\n",
       "15          280       1240       1520\n",
       "20          665       2870       3535\n",
       "25         1300       5525       6825\n",
       "50        10412      42925      53337\n",
       "80        42660     173880     216540\n",
       "100       83325     338350     421675\n",
       "1000   83333250  333833500  417166750"
      ]
     },
     "execution_count": 21,
     "metadata": {},
     "output_type": "execute_result"
    }
   ],
   "source": [
    "results['straights'] = l2_test_sum['straights']\n",
    "results['n'] = results['straights'] + results['diagonals']\n",
    "results"
   ]
  },
  {
   "cell_type": "markdown",
   "metadata": {},
   "source": [
    "---"
   ]
  },
  {
   "cell_type": "markdown",
   "metadata": {},
   "source": [
    "## Make those predictions\n",
    "Okay, now let's make predictions for the test points we just computed *true values* for using the model we built earlier (Equation 2.1 and 2.2).\n",
    "\n",
    "Just first remember that our model requires $\\ell_{\\text{test}}^3$ and $\\ell_{\\text{test}}^2$ as well as $\\ell_{\\text{test}}$, so we will have to write over `l_test` from before to include both."
   ]
  },
  {
   "cell_type": "code",
   "execution_count": 22,
   "metadata": {},
   "outputs": [
    {
     "data": {
      "text/plain": [
       "[[15, 225, 3375],\n",
       " [20, 400, 8000],\n",
       " [25, 625, 15625],\n",
       " [50, 2500, 125000],\n",
       " [80, 6400, 512000],\n",
       " [100, 10000, 1000000],\n",
       " [1000, 1000000, 1000000000]]"
      ]
     },
     "execution_count": 22,
     "metadata": {},
     "output_type": "execute_result"
    }
   ],
   "source": [
    "l_test = [[15,15**2,15**3],\n",
    "          [20,20**2, 20**3],\n",
    "          [25,25**2,25**3],\n",
    "          [50,50**2,50**3],\n",
    "          [80,80**2,80**3],\n",
    "          [100,100**2,100**3],\n",
    "          [1000,1000**2,1000**3]]\n",
    "l_test"
   ]
  },
  {
   "cell_type": "code",
   "execution_count": 23,
   "metadata": {},
   "outputs": [],
   "source": [
    "predictions = lm.predict(l_test)"
   ]
  },
  {
   "cell_type": "code",
   "execution_count": 24,
   "metadata": {
    "scrolled": true
   },
   "outputs": [
    {
     "name": "stdout",
     "output_type": "stream",
     "text": [
      "Predictions:  [1.52029615e+03 3.53668531e+03 6.82957298e+03 5.33976854e+04\n",
      " 2.16828016e+05 4.22265956e+05 4.17866301e+08]\n"
     ]
    }
   ],
   "source": [
    "print('Predictions: ', predictions)"
   ]
  },
  {
   "cell_type": "markdown",
   "metadata": {},
   "source": [
    "---"
   ]
  },
  {
   "cell_type": "markdown",
   "metadata": {},
   "source": [
    "## Review performance\n",
    "This gives us a sort of average of the errors, which we will actually break down in the next section."
   ]
  },
  {
   "cell_type": "code",
   "execution_count": 25,
   "metadata": {},
   "outputs": [],
   "source": [
    "from sklearn import metrics"
   ]
  },
  {
   "cell_type": "code",
   "execution_count": 26,
   "metadata": {
    "scrolled": true
   },
   "outputs": [
    {
     "data": {
      "text/plain": [
       "100071.06660004506"
      ]
     },
     "execution_count": 26,
     "metadata": {},
     "output_type": "execute_result"
    }
   ],
   "source": [
    "metrics.mean_absolute_error(results['n'],predictions)"
   ]
  },
  {
   "cell_type": "code",
   "execution_count": 27,
   "metadata": {},
   "outputs": [
    {
     "data": {
      "text/plain": [
       "264405.6388453675"
      ]
     },
     "execution_count": 27,
     "metadata": {},
     "output_type": "execute_result"
    }
   ],
   "source": [
    "np.sqrt(metrics.mean_squared_error(results['n'],predictions))"
   ]
  },
  {
   "cell_type": "markdown",
   "metadata": {},
   "source": [
    "---"
   ]
  },
  {
   "cell_type": "markdown",
   "metadata": {},
   "source": [
    "## Final Thoughts\n",
    "We see that the model doesn't do as well here. For the grid of size $\\ell = 15$, the model predicted 1,520 total squares, which is correct! For $\\ell = 25$, the model predicted 6,830 which is only five squares over the actual answer. But if we're already seeing some inaccuracy, then how does it perform for large $\\ell$?\n",
    "\n",
    "For $\\ell = 1000$ the model predicted 417,866,301 when there are 417,166,750! It overestimated the total squares by almost 700 thousand squares! It's clear that this worsening fit for larger $\\ell$ is due to the lack of data for large values of $\\ell$. In fact, most people might have expected this to happen, since the only data available was data for which I was willing to count by hand, and for $\\ell = 12$ I was already counting almost 150 squares on the diagonal by hand.\n",
    "\n",
    "Of course, now that we have our function, we could use it to give us a better sample of $l \\text{ vs } n$. A better sample of the data, one that wasn't so concentrated around small values of $\\ell$, would certainly improve our model. However, I'll leave that as an exercise for the reader; I'm content with a function that can just give us the answer."
   ]
  }
 ],
 "metadata": {
  "kernelspec": {
   "display_name": "Python 3",
   "language": "python",
   "name": "python3"
  },
  "language_info": {
   "codemirror_mode": {
    "name": "ipython",
    "version": 3
   },
   "file_extension": ".py",
   "mimetype": "text/x-python",
   "name": "python",
   "nbconvert_exporter": "python",
   "pygments_lexer": "ipython3",
   "version": "3.8.6"
  },
  "latex_envs": {
   "LaTeX_envs_menu_present": true,
   "autoclose": false,
   "autocomplete": true,
   "bibliofile": "biblio.bib",
   "cite_by": "apalike",
   "current_citInitial": 1,
   "eqLabelWithNumbers": true,
   "eqNumInitial": 1,
   "hotkeys": {
    "equation": "Ctrl-E",
    "itemize": "Ctrl-I"
   },
   "labels_anchors": false,
   "latex_user_defs": false,
   "report_style_numbering": true,
   "user_envs_cfg": false
  }
 },
 "nbformat": 4,
 "nbformat_minor": 4
}
