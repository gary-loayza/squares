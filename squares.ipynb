{
 "cells": [
  {
   "cell_type": "code",
   "execution_count": 1,
   "metadata": {},
   "outputs": [],
   "source": [
    "import numpy as np\n",
    "import pandas as pd\n",
    "\n",
    "import matplotlib.pyplot as plt\n",
    "import seaborn as sns\n",
    "%matplotlib inline"
   ]
  },
  {
   "cell_type": "markdown",
   "metadata": {},
   "source": [
    "---"
   ]
  },
  {
   "cell_type": "markdown",
   "metadata": {},
   "source": [
    "# The Problem"
   ]
  },
  {
   "cell_type": "markdown",
   "metadata": {},
   "source": [
    "We start by exploring a simple puzzle. How many countable squares in a $\\ell \\times \\ell$ grid?  \n",
    "It is fairly easy to simply count every square you see, but these situations can become more complex. See for example\n",
    "\n",
    "![Original Problem](https://static.wixstatic.com/media/0b125c_7ccf881d48c04fb78b51db04df99aa67~mv2.jpg/v1/fill/w_360,h_477,al_c,q_90,usm_0.66_1.00_0.01/0b125c_7ccf881d48c04fb78b51db04df99aa67~mv2.webp)\n",
    "\n",
    "It can be shown that **the number of countable squares in a grid divided into $\\ell \\times \\ell$ seqments is given by**\n",
    "\n",
    "\\begin{equation}\n",
    "    n = \\sum^{\\ell}_{s=1} s^2 = 1^2 + 2^2 + \\ldots + \\ell^2\n",
    "\\end{equation}\n",
    "\n",
    "For example, a square divided into 9 (that is, $\\ell=3$) has 14 countable squares: the 9 inner $1\\times1$ squares the 4 larger $2\\times 2$ and the one largest outer square. See below.\n",
    "\n",
    "![Example](https://qph.fs.quoracdn.net/main-qimg-fa0653f6352342edbdb178d5893fd08f.webp)\n",
    "\n",
    "So instead, we will go through and see how we can use statistical learning methods to estimate or perhaps even result in the same description of growth as in Equation 1."
   ]
  },
  {
   "cell_type": "markdown",
   "metadata": {},
   "source": [
    "---"
   ]
  },
  {
   "cell_type": "markdown",
   "metadata": {},
   "source": [
    "## Set up data\n",
    "We will jump ahead to writing a function that will create a dataframe that contains the information for $\\ell$ as well as the true answers, $n$, given by Equation 1. We do this for values $\\ell: 1 \\to 100$ and store this in a variable $n$.  \n",
    "Additionally, we will be making some extra columns to be able to fit a non-linear model. This will be discussed later."
   ]
  },
  {
   "cell_type": "code",
   "execution_count": 2,
   "metadata": {},
   "outputs": [],
   "source": [
    "l =  np.arange(1,101,1)"
   ]
  },
  {
   "cell_type": "code",
   "execution_count": 3,
   "metadata": {},
   "outputs": [],
   "source": [
    "n = []"
   ]
  },
  {
   "cell_type": "code",
   "execution_count": 4,
   "metadata": {},
   "outputs": [],
   "source": [
    "# Equation 1\n",
    "def l_squared_sum(array):\n",
    "    value = 0\n",
    "    for el in array:\n",
    "        value+= el**2\n",
    "        n.append(value)"
   ]
  },
  {
   "cell_type": "code",
   "execution_count": 5,
   "metadata": {},
   "outputs": [
    {
     "data": {
      "text/plain": [
       "array([     1,      5,     14,     30,     55,     91,    140,    204,\n",
       "          285,    385,    506,    650,    819,   1015,   1240,   1496,\n",
       "         1785,   2109,   2470,   2870,   3311,   3795,   4324,   4900,\n",
       "         5525,   6201,   6930,   7714,   8555,   9455,  10416,  11440,\n",
       "        12529,  13685,  14910,  16206,  17575,  19019,  20540,  22140,\n",
       "        23821,  25585,  27434,  29370,  31395,  33511,  35720,  38024,\n",
       "        40425,  42925,  45526,  48230,  51039,  53955,  56980,  60116,\n",
       "        63365,  66729,  70210,  73810,  77531,  81375,  85344,  89440,\n",
       "        93665,  98021, 102510, 107134, 111895, 116795, 121836, 127020,\n",
       "       132349, 137825, 143450, 149226, 155155, 161239, 167480, 173880,\n",
       "       180441, 187165, 194054, 201110, 208335, 215731, 223300, 231044,\n",
       "       238965, 247065, 255346, 263810, 272459, 281295, 290320, 299536,\n",
       "       308945, 318549, 328350, 338350])"
      ]
     },
     "execution_count": 5,
     "metadata": {},
     "output_type": "execute_result"
    }
   ],
   "source": [
    "l_squared_sum(l)\n",
    "np.array(n)"
   ]
  },
  {
   "cell_type": "code",
   "execution_count": 6,
   "metadata": {},
   "outputs": [],
   "source": [
    "df = pd.DataFrame()"
   ]
  },
  {
   "cell_type": "code",
   "execution_count": 7,
   "metadata": {},
   "outputs": [],
   "source": [
    "df['l'] = l\n",
    "df['l2'] = l**2\n",
    "df['l3'] = l**3\n",
    "df['n'] = n"
   ]
  },
  {
   "cell_type": "code",
   "execution_count": 8,
   "metadata": {},
   "outputs": [
    {
     "data": {
      "text/html": [
       "<div>\n",
       "<style scoped>\n",
       "    .dataframe tbody tr th:only-of-type {\n",
       "        vertical-align: middle;\n",
       "    }\n",
       "\n",
       "    .dataframe tbody tr th {\n",
       "        vertical-align: top;\n",
       "    }\n",
       "\n",
       "    .dataframe thead th {\n",
       "        text-align: right;\n",
       "    }\n",
       "</style>\n",
       "<table border=\"1\" class=\"dataframe\">\n",
       "  <thead>\n",
       "    <tr style=\"text-align: right;\">\n",
       "      <th></th>\n",
       "      <th>l</th>\n",
       "      <th>l2</th>\n",
       "      <th>l3</th>\n",
       "      <th>n</th>\n",
       "    </tr>\n",
       "  </thead>\n",
       "  <tbody>\n",
       "    <tr>\n",
       "      <th>0</th>\n",
       "      <td>1</td>\n",
       "      <td>1</td>\n",
       "      <td>1</td>\n",
       "      <td>1</td>\n",
       "    </tr>\n",
       "    <tr>\n",
       "      <th>1</th>\n",
       "      <td>2</td>\n",
       "      <td>4</td>\n",
       "      <td>8</td>\n",
       "      <td>5</td>\n",
       "    </tr>\n",
       "    <tr>\n",
       "      <th>2</th>\n",
       "      <td>3</td>\n",
       "      <td>9</td>\n",
       "      <td>27</td>\n",
       "      <td>14</td>\n",
       "    </tr>\n",
       "    <tr>\n",
       "      <th>3</th>\n",
       "      <td>4</td>\n",
       "      <td>16</td>\n",
       "      <td>64</td>\n",
       "      <td>30</td>\n",
       "    </tr>\n",
       "    <tr>\n",
       "      <th>4</th>\n",
       "      <td>5</td>\n",
       "      <td>25</td>\n",
       "      <td>125</td>\n",
       "      <td>55</td>\n",
       "    </tr>\n",
       "  </tbody>\n",
       "</table>\n",
       "</div>"
      ],
      "text/plain": [
       "   l  l2   l3   n\n",
       "0  1   1    1   1\n",
       "1  2   4    8   5\n",
       "2  3   9   27  14\n",
       "3  4  16   64  30\n",
       "4  5  25  125  55"
      ]
     },
     "execution_count": 8,
     "metadata": {},
     "output_type": "execute_result"
    }
   ],
   "source": [
    "df.head()"
   ]
  },
  {
   "cell_type": "markdown",
   "metadata": {},
   "source": [
    "---"
   ]
  },
  {
   "cell_type": "markdown",
   "metadata": {},
   "source": [
    "## Visualization\n",
    "Just by glancing at the dataframe, you can see there is a nonlinear relationship between $\\ell$ and $n$, as $n$ increases faster than $\\ell^2$ but slower than $\\ell^3$. The true growth of $n$ must be somewhere in between.\n",
    "\n",
    "Let's first see the data $\\ell \\text{ vs  } n$.  \n",
    "And we might as well also compare $n$ to the growth rates of $\\ell^2$ and $\\ell^3$ while we're at it."
   ]
  },
  {
   "cell_type": "code",
   "execution_count": 9,
   "metadata": {},
   "outputs": [
    {
     "data": {
      "image/png": "[encoded data removed]",
      "text/plain": [
       "<Figure size 720x432 with 1 Axes>"
      ]
     },
     "metadata": {
      "needs_background": "light"
     },
     "output_type": "display_data"
    }
   ],
   "source": [
    "vz_df = df.sample(frac=0.5)\n",
    "vz_df.sort_index(inplace=True)\n",
    "\n",
    "fig = plt.figure(figsize=(10,6))\n",
    "ax = fig.add_axes([0,0,1,1])\n",
    "\n",
    "ax.set_xlabel('l')\n",
    "\n",
    "ax.plot(vz_df['l'], vz_df['n'], '^g', label='l vs n', markersize=10)\n",
    "ax.plot(vz_df['l'], vz_df['l2'], label='l^2', lw=2, color='orange')\n",
    "ax.plot(vz_df['l'], vz_df['l3'], label='l^3', lw=2, color='r')\n",
    "\n",
    "ax.legend(loc=(0.1,0.8))\n",
    "plt.show()"
   ]
  },
  {
   "cell_type": "markdown",
   "metadata": {},
   "source": [
    "---"
   ]
  },
  {
   "cell_type": "markdown",
   "metadata": {},
   "source": [
    "## Draw the models\n",
    "We could see from the data that choosing a model with degree higher than 3 shouldn't be necessary.  \n",
    "Let's visualize that intuition to see if such a model will be accurate, or if a lower degree model will suffice."
   ]
  },
  {
   "cell_type": "code",
   "execution_count": 10,
   "metadata": {
    "code_folding": []
   },
   "outputs": [
    {
     "data": {
      "image/png": "[encoded data removed]",
      "text/plain": [
       "<Figure size 720x432 with 1 Axes>"
      ]
     },
     "metadata": {
      "needs_background": "light"
     },
     "output_type": "display_data"
    }
   ],
   "source": [
    "# Quick fit and visualization\n",
    "xp = np.linspace(1, 100, 100)\n",
    "\n",
    "z = np.polyfit(l, n, 1)\n",
    "z2 = np.polyfit(l, n, 2)\n",
    "z3 = np.polyfit(l, n, 3)\n",
    "\n",
    "p = np.poly1d(z)\n",
    "p2 = np.poly1d(z2)\n",
    "p3 = np.poly1d(z3)\n",
    "\n",
    "fig = plt.figure(figsize=(10,6))\n",
    "ax = fig.add_axes([0,0,1,1])\n",
    "\n",
    "ax.set_xlabel('l')\n",
    "\n",
    "ax.plot(vz_df['l'], vz_df['n'], '^g', label='l vs n', markersize=10)\n",
    "ax.plot(xp, p(xp), label='Linear Model', lw=3)\n",
    "ax.plot(xp, p2(xp), label='Degree 2 Model', lw=3)\n",
    "ax.plot(xp, p3(xp), label='Degree 3 Model', lw=3, color='r')\n",
    "\n",
    "ax.legend(loc=(0.1,0.8))\n",
    "plt.show()"
   ]
  },
  {
   "cell_type": "markdown",
   "metadata": {},
   "source": [
    "The figure suggests our intuition is correct. Moreover, degree 3 seems better than degree 2, and we can also see how a linear model would not work well at all. In fact, due to the lack of any noise in this data, degree 3 fits the data so closely, it is difficult to show both the data and the regression line for degree 3.\n",
    "\n",
    "So we will use the following (degree = 3) model:\n",
    "\n",
    "\\begin{equation}\n",
    "    n \\approx \\beta_0 + \\beta_1 \\ell + \\beta_2 \\ell^2 + \\beta_3 \\ell^3\n",
    "\\end{equation}\n",
    "\n",
    "It's worth noting at this point that this model will not be *correct* in the mathematical sense. That is, Equation 2 is not the same description of growth as Equation 1, regardless of the values you fill in for the $\\beta$ coefficients. I will briefly attempt to explain the concept of bias-variance tradeoff at work as it pertains to this type of solution, and how the resulting model can still be expected to perform.\n",
    "\n",
    "We are, for the sake of learning, pretending to not know the actual growth of $n$ as a function of $\\ell$. Equation 1 is a fairly complex mathematical description of the growth when you compare it to what we using as a model, but it is the **truth**. We are reducing the complexity of such a system by attempting to fit the data into some sort of linear model. Of course, an actual linear model is *too* simple (we say our model has too much bias), and so we can attempt to add more flexibility to our model by increasing the variance of our model. That's what the higher order terms are doing in the linear model.\n",
    "\n",
    "As we move on, we can expect decent performance from a model with sufficient variance to make up for the high bias introduced by substituting the *actual equation of growth* for a simplified one; **but as close as it gets to being right, it won't ever be true**. The model will not give us any deeper understanding beyond making predictions."
   ]
  },
  {
   "cell_type": "markdown",
   "metadata": {},
   "source": [
    "---"
   ]
  },
  {
   "cell_type": "markdown",
   "metadata": {},
   "source": [
    "## Find Coefficients\n",
    "Okay, let's fit this model (Equation 2) then."
   ]
  },
  {
   "cell_type": "code",
   "execution_count": 11,
   "metadata": {},
   "outputs": [],
   "source": [
    "X = df[['l','l2','l3']]"
   ]
  },
  {
   "cell_type": "code",
   "execution_count": 12,
   "metadata": {},
   "outputs": [],
   "source": [
    "from sklearn.linear_model import LinearRegression"
   ]
  },
  {
   "cell_type": "code",
   "execution_count": 13,
   "metadata": {},
   "outputs": [],
   "source": [
    "lm = LinearRegression()"
   ]
  },
  {
   "cell_type": "code",
   "execution_count": 14,
   "metadata": {},
   "outputs": [
    {
     "data": {
      "text/plain": [
       "LinearRegression()"
      ]
     },
     "execution_count": 14,
     "metadata": {},
     "output_type": "execute_result"
    }
   ],
   "source": [
    "lm.fit(X, n)"
   ]
  },
  {
   "cell_type": "code",
   "execution_count": 15,
   "metadata": {},
   "outputs": [
    {
     "name": "stdout",
     "output_type": "stream",
     "text": [
      "Intercept:  -1.4551915228366852e-11\n"
     ]
    }
   ],
   "source": [
    "print('Intercept: ', lm.intercept_)"
   ]
  },
  {
   "cell_type": "code",
   "execution_count": 16,
   "metadata": {},
   "outputs": [
    {
     "data": {
      "text/html": [
       "<div>\n",
       "<style scoped>\n",
       "    .dataframe tbody tr th:only-of-type {\n",
       "        vertical-align: middle;\n",
       "    }\n",
       "\n",
       "    .dataframe tbody tr th {\n",
       "        vertical-align: top;\n",
       "    }\n",
       "\n",
       "    .dataframe thead th {\n",
       "        text-align: right;\n",
       "    }\n",
       "</style>\n",
       "<table border=\"1\" class=\"dataframe\">\n",
       "  <thead>\n",
       "    <tr style=\"text-align: right;\">\n",
       "      <th></th>\n",
       "      <th>Coeff (𝛽)</th>\n",
       "    </tr>\n",
       "  </thead>\n",
       "  <tbody>\n",
       "    <tr>\n",
       "      <th>l</th>\n",
       "      <td>0.166667</td>\n",
       "    </tr>\n",
       "    <tr>\n",
       "      <th>l2</th>\n",
       "      <td>0.500000</td>\n",
       "    </tr>\n",
       "    <tr>\n",
       "      <th>l3</th>\n",
       "      <td>0.333333</td>\n",
       "    </tr>\n",
       "  </tbody>\n",
       "</table>\n",
       "</div>"
      ],
      "text/plain": [
       "    Coeff (𝛽)\n",
       "l    0.166667\n",
       "l2   0.500000\n",
       "l3   0.333333"
      ]
     },
     "execution_count": 16,
     "metadata": {},
     "output_type": "execute_result"
    }
   ],
   "source": [
    "cdf = pd.DataFrame(lm.coef_,X.columns,columns=['Coeff (𝛽)'])\n",
    "cdf"
   ]
  },
  {
   "cell_type": "markdown",
   "metadata": {},
   "source": [
    "This tells us our fitted model is\n",
    "\n",
    "\\begin{equation}\n",
    "    n \\approx -0.0000000000146 + \\frac{1}{6} \\ell + \\frac{1}{2} \\ell^2 + \\frac{1}{3} \\ell^3 \n",
    "\\end{equation}"
   ]
  },
  {
   "cell_type": "markdown",
   "metadata": {},
   "source": [
    "---"
   ]
  },
  {
   "cell_type": "markdown",
   "metadata": {},
   "source": [
    "## Make a few predictions\n",
    "\n",
    "Now to test our model against a few data points outside of what we use to train the model ($\\ell_{\\text{train}}: 1 \\to 100$)"
   ]
  },
  {
   "cell_type": "code",
   "execution_count": 17,
   "metadata": {
    "code_folding": [
     0
    ]
   },
   "outputs": [
    {
     "data": {
      "text/plain": [
       "[[110, 12100, 1331000],\n",
       " [222, 49284, 10941048],\n",
       " [315, 99225, 31255875],\n",
       " [346, 119716, 41421736],\n",
       " [869, 755161, 656234909]]"
      ]
     },
     "execution_count": 17,
     "metadata": {},
     "output_type": "execute_result"
    }
   ],
   "source": [
    "l_test = [[110, 110**2, 110**3],\n",
    "          [222, 222**2, 222**3],\n",
    "          [315,315**2,315**3],\n",
    "          [346,346**2,346**3],\n",
    "         [869,869**2,869**3]]\n",
    "l_test"
   ]
  },
  {
   "cell_type": "code",
   "execution_count": 18,
   "metadata": {},
   "outputs": [],
   "source": [
    "predictions = lm.predict(l_test)"
   ]
  },
  {
   "cell_type": "code",
   "execution_count": 19,
   "metadata": {},
   "outputs": [
    {
     "name": "stdout",
     "output_type": "stream",
     "text": [
      "Predictions: [4.49735000e+05 3.67169500e+06 1.04682900e+07 1.38671610e+07\n",
      " 2.19122695e+08]\n"
     ]
    }
   ],
   "source": [
    "print('Predictions:', predictions)"
   ]
  },
  {
   "cell_type": "code",
   "execution_count": 20,
   "metadata": {},
   "outputs": [],
   "source": [
    "n_test = [449735,3671695,10468290,13867161,219122695]"
   ]
  },
  {
   "cell_type": "markdown",
   "metadata": {},
   "source": [
    "Compare the values of `n_test` to the `predictions` array above."
   ]
  },
  {
   "cell_type": "markdown",
   "metadata": {},
   "source": [
    "---"
   ]
  },
  {
   "cell_type": "markdown",
   "metadata": {},
   "source": [
    "## Review\n",
    "Let's see how accurate the predictions were."
   ]
  },
  {
   "cell_type": "code",
   "execution_count": 21,
   "metadata": {},
   "outputs": [
    {
     "data": {
      "image/png": "[encoded data removed]",
      "text/plain": [
       "<Figure size 432x288 with 1 Axes>"
      ]
     },
     "metadata": {
      "needs_background": "light"
     },
     "output_type": "display_data"
    }
   ],
   "source": [
    "plt.scatter(n_test,predictions)\n",
    "plt.show()"
   ]
  },
  {
   "cell_type": "code",
   "execution_count": 22,
   "metadata": {},
   "outputs": [],
   "source": [
    "from sklearn import metrics"
   ]
  },
  {
   "cell_type": "code",
   "execution_count": 23,
   "metadata": {
    "scrolled": true
   },
   "outputs": [
    {
     "data": {
      "text/plain": [
       "4.773028194904327e-10"
      ]
     },
     "execution_count": 23,
     "metadata": {},
     "output_type": "execute_result"
    }
   ],
   "source": [
    "metrics.mean_absolute_error(n_test,predictions)"
   ]
  },
  {
   "cell_type": "markdown",
   "metadata": {},
   "source": [
    "---"
   ]
  },
  {
   "cell_type": "markdown",
   "metadata": {},
   "source": [
    "## Final Thoughts\n",
    "So we have a resulting model that is incredibly accurate at making preditions. The average error is approximately 0 (0.000000000477) and if you round each prediction to the nearest integer, it is 100% accurate on every test prediction.\n",
    "\n",
    "But, it is important to remember, this is not the same as Equation 1."
   ]
  }
 ],
 "metadata": {
  "kernelspec": {
   "display_name": "Python 3",
   "language": "python",
   "name": "python3"
  },
  "language_info": {
   "codemirror_mode": {
    "name": "ipython",
    "version": 3
   },
   "file_extension": ".py",
   "mimetype": "text/x-python",
   "name": "python",
   "nbconvert_exporter": "python",
   "pygments_lexer": "ipython3",
   "version": "3.8.6"
  },
  "latex_envs": {
   "LaTeX_envs_menu_present": true,
   "autoclose": false,
   "autocomplete": true,
   "bibliofile": "biblio.bib",
   "cite_by": "apalike",
   "current_citInitial": 1,
   "eqLabelWithNumbers": true,
   "eqNumInitial": 1,
   "hotkeys": {
    "equation": "Ctrl-E",
    "itemize": "Ctrl-I"
   },
   "labels_anchors": false,
   "latex_user_defs": false,
   "report_style_numbering": true,
   "user_envs_cfg": false
  }
 },
 "nbformat": 4,
 "nbformat_minor": 4
}
